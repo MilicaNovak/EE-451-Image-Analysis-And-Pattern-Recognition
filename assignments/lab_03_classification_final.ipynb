{
 "cells": [
  {
   "cell_type": "markdown",
   "metadata": {},
   "source": [
    "# [IAPR 2018:][iapr2018] Lab 3 ‒  Classification\n",
    "\n",
    "**Author:** Milica Novakovic Number:281861  \n",
    "**Due date:** 25.05.2018\n",
    "\n",
    "[iapr2018]: https://github.com/LTS5/iapr-2018"
   ]
  },
  {
   "cell_type": "markdown",
   "metadata": {},
   "source": [
    "## Extract relevant data\n",
    "We first need to extract the `lab-03-data.tar.gz` archive.\n",
    "To this end, we use the [tarfile] module from the Python standard library.\n",
    "\n",
    "[tarfile]: https://docs.python.org/3.6/library/tarfile.html"
   ]
  },
  {
   "cell_type": "code",
   "execution_count": 1,
   "metadata": {
    "collapsed": true
   },
   "outputs": [],
   "source": [
    "import tarfile\n",
    "import os\n",
    "\n",
    "data_base_path = os.path.join(os.pardir, 'data')\n",
    "data_folder = 'lab-03-data'\n",
    "tar_path = os.path.join(data_base_path, data_folder + '.tar.gz')\n",
    "with tarfile.open(tar_path, mode='r:gz') as tar:\n",
    "    tar.extractall(path=data_base_path)"
   ]
  },
  {
   "cell_type": "markdown",
   "metadata": {},
   "source": [
    "## Part 1\n",
    "In this part, we will study classification based on the data available in the Matlab file `classification.mat` that you will under `lab-03-data/part1`.\n",
    "There are 3 data sets in this file, each one being a training set for a given class.\n",
    "They are contained in variables `a`, `b` and `c`.\n",
    "\n",
    "**Note**: we can load Matlab files using the [scipy.io] module.\n",
    "\n",
    "[scipy.io]: https://docs.scipy.org/doc/scipy/reference/io.html"
   ]
  },
  {
   "cell_type": "code",
   "execution_count": 2,
   "metadata": {},
   "outputs": [
    {
     "name": "stdout",
     "output_type": "stream",
     "text": [
      "(200, 2) (200, 2) (200, 2)\n"
     ]
    }
   ],
   "source": [
    "import scipy.io\n",
    "\n",
    "data_part1_path = os.path.join(data_base_path, data_folder, 'part1', 'classification.mat')\n",
    "matfile = scipy.io.loadmat(data_part1_path)\n",
    "a = matfile['a']\n",
    "b = matfile['b']\n",
    "c = matfile['c']\n",
    "\n",
    "print(a.shape, b.shape, c.shape)"
   ]
  },
  {
   "cell_type": "markdown",
   "metadata": {},
   "source": [
    "### 1.1 Bayes method\n",
    "Using the Bayes method, give the analytical expression of the separation curves between those three classes.\n",
    "Do reasonable hypotheses about the distributions of those classes and estimate the corresponding parameters based on the given training sets.\n",
    "Draw those curves on a plot, together with the training data.\n",
    "For simplicity reasons, round the estimated parameters to the closest integer value."
   ]
  },
  {
   "cell_type": "code",
   "execution_count": 3,
   "metadata": {
    "collapsed": true
   },
   "outputs": [],
   "source": [
    "import matplotlib.pyplot as plt\n",
    "%matplotlib inline\n",
    "import numpy as np"
   ]
  },
  {
   "cell_type": "markdown",
   "metadata": {},
   "source": [
    "First we plot the data in order to guess the distrubution of data."
   ]
  },
  {
   "cell_type": "code",
   "execution_count": 4,
   "metadata": {},
   "outputs": [
    {
     "data": {
      "image/png": "[encoded data removed]",
      "text/plain": [
       "<matplotlib.figure.Figure at 0x1a707ba4ba8>"
      ]
     },
     "metadata": {},
     "output_type": "display_data"
    }
   ],
   "source": [
    "plt.figure(figsize=(8,8));\n",
    "plt.scatter(a[:,0],a[:,1],label=\"a\",marker=\".\");\n",
    "plt.scatter(b[:,0],b[:,1],label=\"b\",marker=\".\");\n",
    "plt.scatter(c[:,0],c[:,1],label=\"c\",marker=\".\");\n",
    "plt.legend();"
   ]
  },
  {
   "cell_type": "markdown",
   "metadata": {},
   "source": [
    "With Bayes method, we know that we want to maximize :\n",
    "$$\n",
    "\\mathbb{P}(x|w)\\mathbb{P}(w)\n",
    "$$\n",
    "Now we can do the hypotheses that :(With observing the data in the plot)\n",
    "$$\n",
    "\\mathbb{P}(x|w_i)\\sim\\mathcal{N}(\\mu_i,\\Sigma_i)\n",
    "$$\n",
    "where every class has there own $\\mu_i,\\Sigma_i$, where $i \\in \\{a,b,c\\}$.Because we can see from the graph the data seems to be independent from each axis, so we can assume that $\\Sigma_i$ is a diagonal matrix .And we can estimate the $\\mu_i$ and the $\\Sigma_i$ by:\n",
    "$$\n",
    "\\mu_i=\\frac{1}{N_i}\\sum x_i\\\\\n",
    "\\Sigma_i=\\frac{1}{N_i}\\sum (x_i-\\mu_i)(x_i-\\mu_i)^T\\\\\n",
    "$$\n",
    "We take the discriminant function $f$ as $f(x)=\\ln x$, and we know that\n",
    "$$\n",
    "\\mathbb{P}(w_i|x)\\propto \\mathbb{P}(x|w_i)\\mathbb{P}(w_i)\n",
    "$$\n",
    "For two classes $i$ and $j$, the decision surface satisfy that :\n",
    "$$\n",
    "g_i(x)=g_j(x)\n",
    "$$\n",
    "where :\n",
    "$$\n",
    "g_i(x)=f(\\mathbb{P}(w_i|x))\n",
    "$$\n",
    "For $\\mathbb{P}(w_i)$, we can estimate by using the frequency to estimate the probability.\n",
    "\n",
    "If we note the whole sample number is $N$ ,and the sample number of each class is $N_i$, where $i \\in \\{a,b,c\\}$.Then:\n",
    "$$\n",
    "\\mathbb{P}(w_i)=\\frac{N_i}{N}\n",
    "$$\n",
    "So we insert all we want to get the equation:\n",
    "$$\n",
    "\\ln(\\mathbb{P}(w_i))-\\frac{1}{2}(x-\\mu_i)^T\\Sigma_i^{-1}(x-\\mu_i)-\\frac{1}{2}\\ln(|\\Sigma_i|)=\\ln(\\mathbb{P}(w_j))-\\frac{1}{2}(x-\\mu_j)^T\\Sigma_j^{-1}(x-\\mu_j)-\\frac{1}{2}\\ln(|\\Sigma_j|)\n",
    "$$\n",
    "\n",
    "When $x$ is only two dimension vector, we can write this equation in scalar type:\n",
    "$$\n",
    "\\ln(\\sigma_{j1}\\sigma_{j2})-\\ln(\\sigma_{i1}\\sigma_{i2})+2(\\ln(\\mathbb{P}(w_i))-\\ln(\\mathbb{P}(w_j)))=\\frac{1}{\\sigma_{i1}^2}(x_1-\\mu_{i1})^2+\\frac{1}{\\sigma_{i2}^2}(x_2-\\mu_{i2})^2-\\frac{1}{\\sigma_{j1}^2}(x_1-\\mu_{j1})^2-\\frac{1}{\\sigma_{j2}^2}(x_2-\\mu_{j2})^2\n",
    "$$\n",
    "We can simplify this equation:\n",
    "$$\n",
    "\\ln\\frac{\\sigma_{j1}\\sigma_{j2}}{\\sigma_{i1}\\sigma_{i2}}+2(\\ln(\\mathbb{P}(w_i))-\\ln(\\mathbb{P}(w_j)))+\\frac{\\mu^2_{j1}}{\\sigma^2_{j1}}+\\frac{\\mu^2_{j2}}{\\sigma^2_{j2}}-\\frac{\\mu^2_{i1}}{\\sigma^2_{i1}}-\\frac{\\mu^2_{i2}}{\\sigma^2_{i2}}= (\\frac{2\\mu_{j1}}{\\sigma^2_{j1}}-\\frac{2\\mu_{i1}}{\\sigma^2_{i1}})x_1+(\\frac{2\\mu_{j2}}{\\sigma^2_{j2}}-\\frac{2\\mu_{i2}}{\\sigma^2_{i2}})x_2+(\\frac{1}{\\sigma^2_{i1}}-\\frac{1}{\\sigma^2_{j1}})x_1^2+(\\frac{1}{\\sigma^2_{i2}}-\\frac{1}{\\sigma^2_{j2}})x_2^2\n",
    "$$\n",
    "In our problem, since the number of each class equals(all is 200), so we can remove the term $2(\\ln(\\mathbb{P}(w_i))-\\ln(\\mathbb{P}(w_j)))$ when computing.We can see from the equation this boundary should be a quadratic curve if the coefficient of the quadratic term is not zero."
   ]
  },
  {
   "cell_type": "markdown",
   "metadata": {},
   "source": [
    "Now we try to draw this curve,first we estimate the $\\mu$ and the $\\Sigma$."
   ]
  },
  {
   "cell_type": "code",
   "execution_count": 5,
   "metadata": {
    "collapsed": true
   },
   "outputs": [],
   "source": [
    "mu_a = a.mean(axis=0).round()\n",
    "mu_b = b.mean(axis=0).round()\n",
    "mu_c = c.mean(axis=0).round()"
   ]
  },
  {
   "cell_type": "code",
   "execution_count": 6,
   "metadata": {},
   "outputs": [
    {
     "name": "stdout",
     "output_type": "stream",
     "text": [
      "mu_a is :\n",
      "[-0.  0.]\n",
      "mu_b is :\n",
      "[ 3.  3.]\n",
      "mu_c is :\n",
      "[-10.   0.]\n"
     ]
    }
   ],
   "source": [
    "print (\"mu_a is :\")\n",
    "print (mu_a)\n",
    "print (\"mu_b is :\")\n",
    "print (mu_b)\n",
    "print (\"mu_c is :\")\n",
    "print (mu_c)"
   ]
  },
  {
   "cell_type": "code",
   "execution_count": 7,
   "metadata": {
    "collapsed": true
   },
   "outputs": [],
   "source": [
    "Sigma_a = np.diag(np.cov(a.transpose())).round()\n",
    "Sigma_b = np.diag(np.cov(b.transpose())).round()\n",
    "Sigma_c = np.diag(np.cov(c.transpose())).round()"
   ]
  },
  {
   "cell_type": "code",
   "execution_count": 8,
   "metadata": {},
   "outputs": [
    {
     "name": "stdout",
     "output_type": "stream",
     "text": [
      "Sigma_a is :\n",
      "[ 10.   1.]\n",
      "Sigma_b is :\n",
      "[ 10.   1.]\n",
      "Sigma_c is :\n",
      "[ 1.  5.]\n"
     ]
    }
   ],
   "source": [
    "print (\"Sigma_a is :\")\n",
    "print (Sigma_a)\n",
    "print (\"Sigma_b is :\")\n",
    "print (Sigma_b)\n",
    "print (\"Sigma_c is :\")\n",
    "print (Sigma_c)"
   ]
  },
  {
   "cell_type": "markdown",
   "metadata": {},
   "source": [
    "Now we define a function compute the contour.The equation contour(x1,x2)=0 is the curve that we want to draw."
   ]
  },
  {
   "cell_type": "code",
   "execution_count": 9,
   "metadata": {
    "collapsed": true
   },
   "outputs": [],
   "source": [
    "def contour(x1,x2,mu_1,sigma_1,mu_2,sigma_2):\n",
    "    left = np.sum(mu_1**2/sigma_1-mu_2**2/sigma_2)-0.5*np.log(sigma_2[0]*sigma_2[1])+0.5*np.log(sigma_1[0]*sigma_1[1])\n",
    "    right_1_1 = 2*mu_1[0]/sigma_1[0]-2*mu_2[0]/sigma_2[0]\n",
    "    right_1_2 = 2*mu_1[1]/sigma_1[1]-2*mu_2[1]/sigma_2[1]   \n",
    "    right_2_1 = 1/sigma_2[0]-1/sigma_1[0]\n",
    "    right_2_2 = 1/sigma_2[1]-1/sigma_1[1]\n",
    "    return left-right_1_1*x1-right_1_2*x2-right_2_1*x1**2-right_2_2*x2**2"
   ]
  },
  {
   "cell_type": "markdown",
   "metadata": {},
   "source": [
    "Now we can see our results.Since the contour turns out to be Hyperbola , in order to keep the useful part of the hyperpolar, we need to set limits in the x1,x2 grid."
   ]
  },
  {
   "cell_type": "code",
   "execution_count": 10,
   "metadata": {},
   "outputs": [
    {
     "data": {
      "image/png": "[encoded data removed]",
      "text/plain": [
       "<matplotlib.figure.Figure at 0x1a708267f98>"
      ]
     },
     "metadata": {},
     "output_type": "display_data"
    }
   ],
   "source": [
    "plt.figure(figsize=(8,8));\n",
    "# Plot the train data\n",
    "plt.scatter(a[:,0],a[:,1],label=\"a\",marker=\".\");\n",
    "plt.scatter(b[:,0],b[:,1],label=\"b\",marker=\".\");\n",
    "plt.scatter(c[:,0],c[:,1],label=\"c\",marker=\".\");\n",
    "# Set the limits for the curve between a and b\n",
    "x1 = np.linspace(-7,15,100)  \n",
    "x2 = np.linspace(-6,6,100)\n",
    "x1,x2 = np.meshgrid(x1,x2)\n",
    "# This is a line,in fact.Because the covariance matrix of a and b are same.The quadratic term disappears\n",
    "plt.contour(x1,x2,contour(x1,x2,mu_a,Sigma_a,mu_b,Sigma_b),[0],colors=\"r\")\n",
    "# Set the limits for the curve between c and b\n",
    "x1 = np.linspace(-10,15,100)\n",
    "x2 = np.linspace(2.3,6,100)\n",
    "x1,x2 = np.meshgrid(x1,x2)\n",
    "# This is a hyperpola\n",
    "plt.contour(x1,x2,contour(x1,x2,mu_b,Sigma_b,mu_c,Sigma_c),[0],colors=\"c\")\n",
    "# Set the limits for the curve between c and a\n",
    "x1 = np.linspace(-10,-4,100)\n",
    "x2 = np.linspace(-6,2.3,100)\n",
    "x1,x2 = np.meshgrid(x1,x2)\n",
    "# This is a hyperpola\n",
    "plt.contour(x1,x2,contour(x1,x2,mu_c,Sigma_c,mu_a,Sigma_a),[0],colors=\"m\")\n",
    "plt.legend();"
   ]
  },
  {
   "cell_type": "markdown",
   "metadata": {},
   "source": [
    "### 1.2 Mahalanobis distance\n",
    "For classes `a` and `b`, give the expression of the Mahalanobis distance used to classify a point in class `a` or `b`, and verify the obtained classification, in comparison with the \"complete\" Bayes classification, for a few points of the plane.\n"
   ]
  },
  {
   "cell_type": "markdown",
   "metadata": {},
   "source": [
    "The Mahalanobis distance is defined as $(x-\\mu)^T\\Sigma^{-1}(x-\\mu)$.Now we classify the data by caculating to which cluster the data has the minimum Mahalanobis distance."
   ]
  },
  {
   "cell_type": "code",
   "execution_count": 11,
   "metadata": {
    "collapsed": true
   },
   "outputs": [],
   "source": [
    "import scipy.spatial.distance"
   ]
  },
  {
   "cell_type": "code",
   "execution_count": 12,
   "metadata": {
    "collapsed": true
   },
   "outputs": [],
   "source": [
    "# Stack the data together\n",
    "all_data = list(np.vstack([a,b,c]))"
   ]
  },
  {
   "cell_type": "code",
   "execution_count": 13,
   "metadata": {
    "collapsed": true
   },
   "outputs": [],
   "source": [
    "# Define the function to compute the Mahalanobis distance\n",
    "d_a = lambda x : scipy.spatial.distance.mahalanobis(x.reshape(-1), mu_a.reshape(-1), np.diag(1/Sigma_a))\n",
    "d_b = lambda x : scipy.spatial.distance.mahalanobis(x.reshape(-1), mu_b.reshape(-1), np.diag(1/Sigma_b))\n",
    "d_c = lambda x : scipy.spatial.distance.mahalanobis(x.reshape(-1), mu_c.reshape(-1), np.diag(1/Sigma_c))"
   ]
  },
  {
   "cell_type": "code",
   "execution_count": 14,
   "metadata": {
    "collapsed": true
   },
   "outputs": [],
   "source": [
    "# Find the minimum Mahalanobis distance\n",
    "dist_a = np.array(list(map(d_a,all_data))).reshape(-1,1)\n",
    "dist_b = np.array(list(map(d_b,all_data))).reshape(-1,1)\n",
    "dist_c = np.array(list(map(d_c,all_data))).reshape(-1,1)\n",
    "dist_min = np.argmin(np.hstack([dist_a,dist_b,dist_c]),axis=1)\n",
    "all_data = np.array(all_data)"
   ]
  },
  {
   "cell_type": "code",
   "execution_count": 15,
   "metadata": {
    "collapsed": true
   },
   "outputs": [],
   "source": [
    "# Do prediction\n",
    "pred_a = all_data[dist_min==0,:]\n",
    "pred_b = all_data[dist_min==1,:]\n",
    "pred_c = all_data[dist_min==2,:]"
   ]
  },
  {
   "cell_type": "markdown",
   "metadata": {},
   "source": [
    "We define a function to compute the boundary of Mahalanobis distance classifier.This is almost the same with last question except one term with determinant in the left equation."
   ]
  },
  {
   "cell_type": "code",
   "execution_count": 16,
   "metadata": {
    "collapsed": true
   },
   "outputs": [],
   "source": [
    "def contour2(x1,x2,mu_1,sigma_1,mu_2,sigma_2):\n",
    "    left = np.sum(mu_1**2/sigma_1-mu_2**2/sigma_2)#-0.5*np.log(sigma_2[0]*sigma_2[1])+0.5*np.log(sigma_1[0]*sigma_1[1])\n",
    "    right_1_1 = 2*mu_1[0]/sigma_1[0]-2*mu_2[0]/sigma_2[0]\n",
    "    right_1_2 = 2*mu_1[1]/sigma_1[1]-2*mu_2[1]/sigma_2[1]   \n",
    "    right_2_1 = 1/sigma_2[0]-1/sigma_1[0]\n",
    "    right_2_2 = 1/sigma_2[1]-1/sigma_1[1]\n",
    "    return left-right_1_1*x1-right_1_2*x2-right_2_1*x1**2-right_2_2*x2**2"
   ]
  },
  {
   "cell_type": "markdown",
   "metadata": {},
   "source": [
    "Now we visualize our results.This time, the color of the points shows the **label of prediction with Mahalanobis distance,not the train data**!!!We also put the boundary got by the last question in this plot (with colors red, cyan and magenta) and the boundaries of new Mahalanobis classifier (with colors red, gold and lime)."
   ]
  },
  {
   "cell_type": "code",
   "execution_count": 17,
   "metadata": {},
   "outputs": [
    {
     "data": {
      "image/png": "[encoded data removed]",
      "text/plain": [
       "<matplotlib.figure.Figure at 0x1a707e69ba8>"
      ]
     },
     "metadata": {},
     "output_type": "display_data"
    }
   ],
   "source": [
    "plt.figure(figsize=(8,8));\n",
    "# Plot the data (color means the label of prediction with Mahalanobis distance)\n",
    "plt.scatter(pred_a[:,0],pred_a[:,1],label=\"predict for a\",marker=\".\");\n",
    "plt.scatter(pred_b[:,0],pred_b[:,1],label=\"predict for b\",marker=\".\");\n",
    "plt.scatter(pred_c[:,0],pred_c[:,1],label=\"predict for c\",marker=\".\");\n",
    "# Set the limits for the curve between a and b\n",
    "x1 = np.linspace(-7,15,100)  \n",
    "x2 = np.linspace(-6,6,100)\n",
    "x1,x2 = np.meshgrid(x1,x2)\n",
    "# This is a line,in fact.Because the covariance matrix of a and b are same.The quadratic term disappears\n",
    "plt.contour(x1,x2,contour(x1,x2,mu_a,Sigma_a,mu_b,Sigma_b),[0],colors=\"r\")\n",
    "plt.contour(x1,x2,contour2(x1,x2,mu_a,Sigma_a,mu_b,Sigma_b),[0],colors=\"r\")\n",
    "# Set the limits for the curve between c and b\n",
    "x1 = np.linspace(-10,15,100)\n",
    "x2 = np.linspace(2.3,6,100)\n",
    "x1,x2 = np.meshgrid(x1,x2)\n",
    "# This is a hyperpola\n",
    "plt.contour(x1,x2,contour(x1,x2,mu_b,Sigma_b,mu_c,Sigma_c),[0],colors=\"c\")\n",
    "plt.contour(x1,x2,contour2(x1,x2,mu_b,Sigma_b,mu_c,Sigma_c),[0],colors=\"gold\")\n",
    "# Set the limits for the curve between c and a\n",
    "x1 = np.linspace(-10,-4,100)\n",
    "x2 = np.linspace(-6,2.3,100)\n",
    "x1,x2 = np.meshgrid(x1,x2)\n",
    "# This is a hyperpola\n",
    "plt.contour(x1,x2,contour(x1,x2,mu_c,Sigma_c,mu_a,Sigma_a),[0],colors=\"m\")\n",
    "plt.contour(x1,x2,contour2(x1,x2,mu_c,Sigma_c,mu_a,Sigma_a),[0],colors=\"lime\")\n",
    "plt.legend();"
   ]
  },
  {
   "cell_type": "markdown",
   "metadata": {},
   "source": [
    "We can see that all data get the exactly the same label with both bayes classifier and the Mahalanobis distance classifier, we observe pair of lines almost overlap: lime(line for Bayesian classifier)-magenta (line for Mahalanobis distance) pair of lines and cyan(line for Bayesian classifier) - gold (line for Mahalanobis distance) pair of lines. As we expect. the red line keeps the same in both cases. That match the theory because:\n",
    "\n",
    "With Bayes method, we want to maximize :\n",
    "$$\n",
    "\\mathbb{P}(x|w_i)\\mathbb{P}(w_i)=\\ln(\\mathbb{P}(w_i))-\\frac{1}{2}(x-\\mu_i)^T\\Sigma_i^{-1}(x-\\mu_i)-\\frac{1}{2}\\ln(|\\Sigma_i|)\n",
    "$$\n",
    "So when every class has the same prior probability $\\mathbb{P}(w_i)$, the classification is equivalent to minimize Mahalanobis distance $(x-\\mu_i)^T\\Sigma_i^{-1}(x-\\mu_i)$ when $\\Sigma_i=\\Sigma_j$.But since the logarithm term of the ratio of the determinants is so small , so it didn't affect so much. So it gives exactly same labels to all points with both classifiers in our problem.(Though the boundaries changed a very little bit)"
   ]
  },
  {
   "cell_type": "markdown",
   "metadata": {},
   "source": [
    "## Part 2\n",
    "In this part, we aim to classify digits using the complete version of MNIST digits dataset.\n",
    "The dataset consists of 60'000 training images and 10'000 test images of handwritten digits.\n",
    "Each image has size 28x28, and has assigned a label from zero to nine, denoting the digits value.\n",
    "Given this data, your task is to construct a Multilayer Perceptron (MLP) for supervised training and classification and evaluate it on the test images.\n",
    "\n",
    "Download the MNIST dataset (all 4 files) from http://yann.lecun.com/exdb/mnist/ under `lab-03-data/part2`.\n",
    "You can then use the script provided below to extract and load training and testing images in Python.\n",
    "\n",
    "To create an MLP you are free to choose any library.\n",
    "In case you don't have any preferences, we encourage you to use the [scikit-learn] package; it is a simple, efficient and free tool for data analysis and machine learning.\n",
    "In this [link][sklearn-example], you can find a basic example to see how to create and train an MLP using [scikit-learn].\n",
    "Your network should have the following properties:\n",
    "* Input `x`: 784-dimensional (i.e. 784 visible units representing the flattened 28x28 pixel images).\n",
    "* 100 hidden units `h`.\n",
    "* 10 output units `y`, i.e. the labels, with a value close to one in the i-th class representing a high probability of the input representing the digit `i`.\n",
    "\n",
    "If you need additional examples you can borrow some code from image classification tutorials.\n",
    "However, we recommend that you construct a minimal version of the network on your own to gain better insights.\n",
    "\n",
    "[scikit-learn]: http://scikit-learn.org/stable/index.html\n",
    "[sklearn-example]: http://scikit-learn.org/stable/modules/neural_networks_supervised.html"
   ]
  },
  {
   "cell_type": "markdown",
   "metadata": {},
   "source": [
    "### 2.1 Dataset loading\n",
    "Here we first declare the methods `extract_data` and `extract_labels` so that we can reuse them later in the code.\n",
    "Then we extract both the data and corresponding labels, and plot randomly some images and corresponding labels of the training set."
   ]
  },
  {
   "cell_type": "code",
   "execution_count": 18,
   "metadata": {
    "collapsed": true
   },
   "outputs": [],
   "source": [
    "import gzip\n",
    "import numpy as np\n",
    "import matplotlib.pyplot as plt\n",
    "\n",
    "def extract_data(filename, image_shape, image_number):\n",
    "    with gzip.open(filename) as bytestream:\n",
    "        bytestream.read(16)\n",
    "        buf = bytestream.read(np.prod(image_shape) * image_number)\n",
    "        data = np.frombuffer(buf, dtype=np.uint8).astype(np.float32)\n",
    "        data = data.reshape(image_number, image_shape[0], image_shape[1])\n",
    "    return data\n",
    "\n",
    "\n",
    "def extract_labels(filename, image_number):\n",
    "    with gzip.open(filename) as bytestream:\n",
    "        bytestream.read(8)\n",
    "        buf = bytestream.read(1 * image_number)\n",
    "        labels = np.frombuffer(buf, dtype=np.uint8).astype(np.int64)\n",
    "    return labels"
   ]
  },
  {
   "cell_type": "code",
   "execution_count": 19,
   "metadata": {
    "collapsed": true
   },
   "outputs": [],
   "source": [
    "image_shape = (28, 28)\n",
    "train_set_size = 60000\n",
    "test_set_size = 10000\n",
    "\n",
    "data_part2_folder = os.path.join(data_base_path, data_folder, 'part2')\n",
    "\n",
    "train_images_path = os.path.join(data_part2_folder, 'train-images-idx3-ubyte.gz')\n",
    "train_labels_path = os.path.join(data_part2_folder, 'train-labels-idx1-ubyte.gz')\n",
    "test_images_path = os.path.join(data_part2_folder, 't10k-images-idx3-ubyte.gz')\n",
    "test_labels_path = os.path.join(data_part2_folder, 't10k-labels-idx1-ubyte.gz')\n",
    "\n",
    "train_images = extract_data(train_images_path, image_shape, train_set_size)\n",
    "test_images = extract_data(test_images_path, image_shape, test_set_size)\n",
    "train_labels = extract_labels(train_labels_path, train_set_size)\n",
    "test_labels = extract_labels(test_labels_path, test_set_size)"
   ]
  },
  {
   "cell_type": "code",
   "execution_count": 20,
   "metadata": {
    "scrolled": true
   },
   "outputs": [
    {
     "data": {
      "image/png": "[encoded data removed]",
      "text/plain": [
       "<matplotlib.figure.Figure at 0x7f398f4eb860>"
      ]
     },
     "metadata": {},
     "output_type": "display_data"
    }
   ],
   "source": [
    "prng = np.random.RandomState(seed=123456789)  # seed to always re-draw the same distribution\n",
    "plt_ind = prng.randint(low=0, high=train_set_size, size=10)\n",
    "\n",
    "fig, axes = plt.subplots(1, 10, figsize=(12, 3))\n",
    "for ax, im, lb in zip(axes, train_images[plt_ind], train_labels[plt_ind]):\n",
    "    ax.imshow(im, cmap='gray')\n",
    "    ax.axis('off')\n",
    "    ax.set_title(lb)"
   ]
  },
  {
   "cell_type": "markdown",
   "metadata": {},
   "source": [
    "### 2.2 MLP"
   ]
  },
  {
   "cell_type": "markdown",
   "metadata": {},
   "source": [
    "We use Pytorch to implement MLP because Pytorch is a very powerful tool of building neural networks.Also, it can use GPU to train which saves a lot of time."
   ]
  },
  {
   "cell_type": "code",
   "execution_count": 21,
   "metadata": {
    "collapsed": true
   },
   "outputs": [],
   "source": [
    "from torch import cuda    \n",
    "import torch\n",
    "from torch.autograd import Variable"
   ]
  },
  {
   "cell_type": "code",
   "execution_count": 22,
   "metadata": {
    "collapsed": true
   },
   "outputs": [],
   "source": [
    "# Get the value in the Tensor\n",
    "def evalTensor(x):\n",
    "    # If Tensor in GPU,first move to CPU\n",
    "    if cuda.is_available():\n",
    "        x = x.cpu()\n",
    "    return x.numpy()"
   ]
  },
  {
   "cell_type": "code",
   "execution_count": 23,
   "metadata": {
    "collapsed": true
   },
   "outputs": [],
   "source": [
    "#Use sequential model to build a MLP\n",
    "model = torch.nn.Sequential(\n",
    "          torch.nn.Linear(784, 100),\n",
    "          torch.nn.Linear(100,10),\n",
    "        )\n",
    "\n",
    "# Use cross entropy as a loss function\n",
    "loss_fn = torch.nn.CrossEntropyLoss(size_average=True)"
   ]
  },
  {
   "cell_type": "code",
   "execution_count": 24,
   "metadata": {
    "collapsed": true
   },
   "outputs": [],
   "source": [
    "index = list(range(train_images.shape[0]))\n",
    "# Change the data to Pytorch Variable.Also, normalize the data to [0,1] for improving the performance of MLP\n",
    "train_input = Variable(torch.FloatTensor(train_images.reshape(train_images.shape[0],-1)))/255\n",
    "test_input = Variable(torch.FloatTensor(test_images.reshape(test_images.shape[0],-1)))/255\n",
    "train_target = Variable(torch.LongTensor(train_labels))\n",
    "test_target = Variable(torch.LongTensor(test_labels))\n",
    "\n",
    "# If GPU can be used, then train on GPU\n",
    "if cuda.is_available():\n",
    "    model.cuda()\n",
    "    loss_fn.cuda()\n",
    "    train_input,train_target = train_input.cuda(), train_target.cuda()\n",
    "    test_input,test_target = test_input.cuda(), test_target.cuda()"
   ]
  },
  {
   "cell_type": "code",
   "execution_count": 25,
   "metadata": {
    "collapsed": true
   },
   "outputs": [],
   "source": [
    "# Use adam optimizer\n",
    "optimizer = torch.optim.Adam(model.parameters(), lr = 0.0001)\n",
    "loss_list=[]\n",
    "err_rate_train = []\n",
    "err_rate_test = []\n",
    "# Train 60 epochs, with a batchsize 100\n",
    "nb_epochs = 60\n",
    "batch_size = 100"
   ]
  },
  {
   "cell_type": "code",
   "execution_count": 26,
   "metadata": {
    "scrolled": false
   },
   "outputs": [
    {
     "name": "stdout",
     "output_type": "stream",
     "text": [
      "Epoch : 0 Step : 0 2.294295072555542\n",
      "Epoch : 0 Step : 30000 0.9199527502059937\n",
      "Epoch : 1 Step : 0 0.413634330034256\n",
      "Epoch : 1 Step : 30000 0.3656582534313202\n",
      "Epoch : 2 Step : 0 0.498860239982605\n",
      "Epoch : 2 Step : 30000 0.3420681357383728\n",
      "Epoch : 3 Step : 0 0.37715092301368713\n",
      "Epoch : 3 Step : 30000 0.20907336473464966\n",
      "Epoch : 4 Step : 0 0.3861341178417206\n",
      "Epoch : 4 Step : 30000 0.3001015782356262\n",
      "Epoch : 5 Step : 0 0.23517048358917236\n",
      "Epoch : 5 Step : 30000 0.2569495439529419\n",
      "Epoch : 6 Step : 0 0.25792980194091797\n",
      "Epoch : 6 Step : 30000 0.32384514808654785\n",
      "Epoch : 7 Step : 0 0.20228521525859833\n",
      "Epoch : 7 Step : 30000 0.27581489086151123\n",
      "Epoch : 8 Step : 0 0.1733558624982834\n",
      "Epoch : 8 Step : 30000 0.5299331545829773\n",
      "Epoch : 9 Step : 0 0.3778553009033203\n",
      "Epoch : 9 Step : 30000 0.15965640544891357\n",
      "Epoch : 10 Step : 0 0.27341756224632263\n",
      "Epoch : 10 Step : 30000 0.36079397797584534\n",
      "Epoch : 11 Step : 0 0.23077458143234253\n",
      "Epoch : 11 Step : 30000 0.2526553273200989\n",
      "Epoch : 12 Step : 0 0.18873536586761475\n",
      "Epoch : 12 Step : 30000 0.3873298168182373\n",
      "Epoch : 13 Step : 0 0.2733198404312134\n",
      "Epoch : 13 Step : 30000 0.3883095979690552\n",
      "Epoch : 14 Step : 0 0.1962026208639145\n",
      "Epoch : 14 Step : 30000 0.399017333984375\n",
      "Epoch : 15 Step : 0 0.34352603554725647\n",
      "Epoch : 15 Step : 30000 0.31037503480911255\n",
      "Epoch : 16 Step : 0 0.29525819420814514\n",
      "Epoch : 16 Step : 30000 0.2936843931674957\n",
      "Epoch : 17 Step : 0 0.33844903111457825\n",
      "Epoch : 17 Step : 30000 0.27175068855285645\n",
      "Epoch : 18 Step : 0 0.33163344860076904\n",
      "Epoch : 18 Step : 30000 0.19835905730724335\n",
      "Epoch : 19 Step : 0 0.3463132083415985\n",
      "Epoch : 19 Step : 30000 0.2803304195404053\n",
      "Epoch : 20 Step : 0 0.23293834924697876\n",
      "Epoch : 20 Step : 30000 0.14470745623111725\n",
      "Epoch : 21 Step : 0 0.29944849014282227\n",
      "Epoch : 21 Step : 30000 0.37547045946121216\n",
      "Epoch : 22 Step : 0 0.22763356566429138\n",
      "Epoch : 22 Step : 30000 0.2374805063009262\n",
      "Epoch : 23 Step : 0 0.22400520741939545\n",
      "Epoch : 23 Step : 30000 0.2270815670490265\n",
      "Epoch : 24 Step : 0 0.2358381450176239\n",
      "Epoch : 24 Step : 30000 0.24335318803787231\n",
      "Epoch : 25 Step : 0 0.174189493060112\n",
      "Epoch : 25 Step : 30000 0.28216689825057983\n",
      "Epoch : 26 Step : 0 0.2192980796098709\n",
      "Epoch : 26 Step : 30000 0.2690224051475525\n",
      "Epoch : 27 Step : 0 0.13320371508598328\n",
      "Epoch : 27 Step : 30000 0.11997169256210327\n",
      "Epoch : 28 Step : 0 0.2158135622739792\n",
      "Epoch : 28 Step : 30000 0.2973162829875946\n",
      "Epoch : 29 Step : 0 0.26873940229415894\n",
      "Epoch : 29 Step : 30000 0.39976951479911804\n",
      "Epoch : 30 Step : 0 0.24865634739398956\n",
      "Epoch : 30 Step : 30000 0.25428929924964905\n",
      "Epoch : 31 Step : 0 0.46760594844818115\n",
      "Epoch : 31 Step : 30000 0.32398614287376404\n",
      "Epoch : 32 Step : 0 0.24452823400497437\n",
      "Epoch : 32 Step : 30000 0.2616375982761383\n",
      "Epoch : 33 Step : 0 0.20159578323364258\n",
      "Epoch : 33 Step : 30000 0.2947949767112732\n",
      "Epoch : 34 Step : 0 0.43262889981269836\n",
      "Epoch : 34 Step : 30000 0.21353429555892944\n",
      "Epoch : 35 Step : 0 0.194809228181839\n",
      "Epoch : 35 Step : 30000 0.21914345026016235\n",
      "Epoch : 36 Step : 0 0.2198600023984909\n",
      "Epoch : 36 Step : 30000 0.22711196541786194\n",
      "Epoch : 37 Step : 0 0.2650958299636841\n",
      "Epoch : 37 Step : 30000 0.3434509038925171\n",
      "Epoch : 38 Step : 0 0.2559744119644165\n",
      "Epoch : 38 Step : 30000 0.363918274641037\n",
      "Epoch : 39 Step : 0 0.2687136232852936\n",
      "Epoch : 39 Step : 30000 0.21325160562992096\n",
      "Epoch : 40 Step : 0 0.2518135607242584\n",
      "Epoch : 40 Step : 30000 0.17501236498355865\n",
      "Epoch : 41 Step : 0 0.3194834887981415\n",
      "Epoch : 41 Step : 30000 0.1668950617313385\n",
      "Epoch : 42 Step : 0 0.26547133922576904\n",
      "Epoch : 42 Step : 30000 0.18252842128276825\n",
      "Epoch : 43 Step : 0 0.18494625389575958\n",
      "Epoch : 43 Step : 30000 0.16656896471977234\n",
      "Epoch : 44 Step : 0 0.17289890348911285\n",
      "Epoch : 44 Step : 30000 0.2393689602613449\n",
      "Epoch : 45 Step : 0 0.22046257555484772\n",
      "Epoch : 45 Step : 30000 0.24681763350963593\n",
      "Epoch : 46 Step : 0 0.21477608382701874\n",
      "Epoch : 46 Step : 30000 0.18210791051387787\n",
      "Epoch : 47 Step : 0 0.30270302295684814\n",
      "Epoch : 47 Step : 30000 0.23155216872692108\n",
      "Epoch : 48 Step : 0 0.4295204281806946\n",
      "Epoch : 48 Step : 30000 0.25404784083366394\n",
      "Epoch : 49 Step : 0 0.32965439558029175\n",
      "Epoch : 49 Step : 30000 0.2903885543346405\n",
      "Epoch : 50 Step : 0 0.16951201856136322\n",
      "Epoch : 50 Step : 30000 0.3623100519180298\n",
      "Epoch : 51 Step : 0 0.2504468262195587\n",
      "Epoch : 51 Step : 30000 0.29928743839263916\n",
      "Epoch : 52 Step : 0 0.1852700114250183\n",
      "Epoch : 52 Step : 30000 0.2495790719985962\n",
      "Epoch : 53 Step : 0 0.13714775443077087\n",
      "Epoch : 53 Step : 30000 0.27764391899108887\n",
      "Epoch : 54 Step : 0 0.27837225794792175\n",
      "Epoch : 54 Step : 30000 0.1445886790752411\n",
      "Epoch : 55 Step : 0 0.32179343700408936\n",
      "Epoch : 55 Step : 30000 0.17259646952152252\n",
      "Epoch : 56 Step : 0 0.1404990255832672\n",
      "Epoch : 56 Step : 30000 0.25872036814689636\n",
      "Epoch : 57 Step : 0 0.19210997223854065\n",
      "Epoch : 57 Step : 30000 0.18835358321666718\n",
      "Epoch : 58 Step : 0 0.1884978860616684\n",
      "Epoch : 58 Step : 30000 0.21505160629749298\n",
      "Epoch : 59 Step : 0 0.17785724997520447\n",
      "Epoch : 59 Step : 30000 0.18410401046276093\n"
     ]
    }
   ],
   "source": [
    "for k in range (nb_epochs):\n",
    "    for b in range (0,train_input.size(0),batch_size):\n",
    "        if cuda.is_available():\n",
    "            choose = torch.cuda.LongTensor(np.random.choice(index,batch_size))\n",
    "        else:\n",
    "            choose = torch.LongTensor(np.random.choice(index,batch_size))\n",
    "        # Choose the data of this batch    \n",
    "        batch_x = train_input[choose]\n",
    "        batch_y = train_target[choose]\n",
    "        # Do forward pass\n",
    "        y_pred = model(batch_x)\n",
    "        # Compute loss\n",
    "        loss = loss_fn(y_pred, batch_y)\n",
    "        # Every 30000 steps print a loss\n",
    "        if b%30000==0:\n",
    "            print(\"Epoch :\",k,\"Step :\",b, loss.data[0])\n",
    "        loss_list.append(loss.data[0])\n",
    "        # Zero the gradients before running the backward pass.\n",
    "        optimizer.zero_grad()\n",
    "        # Do backward pass\n",
    "        loss.backward()      \n",
    "        # Update the paraneters\n",
    "        optimizer.step()\n",
    "        predict_train = model.forward(train_input)\n",
    "        # Get the most probable label\n",
    "        _ , predict_train = torch.max(predict_train.data, 1)  \n",
    "        # Compute the error rate\n",
    "        err_rate_train.append(np.mean((evalTensor(predict_train)-train_target.data)!=0))\n",
    "        # Compute the same thing for test set\n",
    "        predict_test = model.forward(test_input)\n",
    "        _ , predict_test = torch.max(predict_test.data, 1)\n",
    "        err_rate_test.append(np.mean((evalTensor(predict_test)-test_target.data)!=0))"
   ]
  },
  {
   "cell_type": "code",
   "execution_count": 27,
   "metadata": {},
   "outputs": [
    {
     "name": "stdout",
     "output_type": "stream",
     "text": [
      "train_error:\n",
      "0.0641\n",
      "test_error:\n",
      "0.0729\n"
     ]
    },
    {
     "data": {
      "image/png": "[encoded data removed]",
      "text/plain": [
       "<matplotlib.figure.Figure at 0x7f394f765320>"
      ]
     },
     "metadata": {},
     "output_type": "display_data"
    },
    {
     "data": {
      "image/png": "[encoded data removed]",
      "text/plain": [
       "<matplotlib.figure.Figure at 0x7f39b0f93710>"
      ]
     },
     "metadata": {},
     "output_type": "display_data"
    }
   ],
   "source": [
    "# Print the training set error rate after training\n",
    "predict_train = model.forward(train_input)\n",
    "_ , predict_train = torch.max(predict_train.data, 1)\n",
    "print (\"train_error:\")\n",
    "print (np.mean((evalTensor(predict_train)-train_target.data)!=0))\n",
    "\n",
    "# Plot the loss curve\n",
    "plt.figure(figsize=(12, 8))\n",
    "plt.plot(range(len(loss_list)),loss_list,label=\"loss\")\n",
    "plt.legend()\n",
    "plt.figure(figsize=(12, 8))\n",
    "plt.plot(range(len(loss_list)),err_rate_train,label=\"train_error\")\n",
    "plt.plot(range(len(loss_list)),err_rate_test,label=\"test_error\")\n",
    "plt.legend()\n",
    "\n",
    "# Print the test set error rate after training\n",
    "predict_test = model.forward(test_input)\n",
    "_ , predict_test = torch.max(predict_test.data, 1)\n",
    "print (\"test_error:\")\n",
    "print (np.mean((evalTensor(predict_test)-test_target.data)!=0))"
   ]
  },
  {
   "cell_type": "markdown",
   "metadata": {},
   "source": [
    "We can find that the MLP is a little overfited.But still, it achieves great result.The MLP classifier is a really powerful classifier , and also it builds a foundation for the most popular deep learning techniques now."
   ]
  }
 ],
 "metadata": {
  "kernelspec": {
   "display_name": "Python 3",
   "language": "python",
   "name": "python3"
  },
  "language_info": {
   "codemirror_mode": {
    "name": "ipython",
    "version": 3
   },
   "file_extension": ".py",
   "mimetype": "text/x-python",
   "name": "python",
   "nbconvert_exporter": "python",
   "pygments_lexer": "ipython3",
   "version": "3.6.2"
  }
 },
 "nbformat": 4,
 "nbformat_minor": 2
}
